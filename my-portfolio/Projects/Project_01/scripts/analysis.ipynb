{
  "cells": [
    {
      "cell_type": "markdown",
      "metadata": {
        "colab_type": "text",
        "id": "view-in-github"
      },
      "source": [
        "<a href=\"https://colab.research.google.com/github/LuisMachadoSaa/Briefcase_project/blob/main/Proyecto_01.ipynb\" target=\"_parent\"><img src=\"https://colab.research.google.com/assets/colab-badge.svg\" alt=\"Open In Colab\"/></a>"
      ]
    },
    {
      "cell_type": "markdown",
      "metadata": {
        "id": "rIXkMjG4zm48"
      },
      "source": [
        "\n",
        "\n",
        "# Context\n",
        "\n",
        "La propagación de *fake news* o noticias falsas se incrementó a partir de la pandemia por COVID-19. Estas son un problema alarmante porque hacen que las personas realicen actividades que normalmente no llevarían a cabo o que actúen de manera caótica. Un ejemplo es [-> esta noticia <-](https://drive.google.com/file/d/1PrfN83Fm1ib5mHYN6SULVe9CJVECUNn2/view?usp=share_link), en la que se relata cómo notas falsas acerca del daño que ocasiona la 5G al cuerpo provocaron que muchas personas en el Reino Unido quemaran torres de telecomunicaciones aun sin ser estas de 5G.\n",
        "\n",
        "A ti, como persona experta en redes neuronales, te han encargado hacer un predetector de noticias falsas para los *fact-checker* del mundo.\n",
        "\n",
        "Para realizarlo, tienes a tu disposición el siguiente *dataset*: https://www.kaggle.com/datasets/saurabhshahane/fake-news-classification\n",
        "\n",
        "\n",
        "- Prueba tu modelo con esta noticia falsa: https://www.breitbart.com/politics/2016/09/10/exposed-fbi-director-james-comeys-clinton-foundation-connection/\n",
        "- Prueba tu modelo con esta noticia verdadera: https://www.washingtonpost.com/sports/2022/11/14/world-cup-female-referee-kathryn-nesbitt/\n",
        "\n"
      ]
    },
    {
      "cell_type": "markdown",
      "metadata": {
        "id": "aY5qsPrzCvzr"
      },
      "source": [
        "## Importing Libraries"
      ]
    },
    {
      "cell_type": "code",
      "execution_count": null,
      "metadata": {
        "id": "gb1lzq6ACumR"
      },
      "outputs": [],
      "source": [
        "from tensorflow.keras import datasets\n",
        "from tensorflow.keras.models import Sequential\n",
        "from tensorflow.keras.layers import (Dropout,\n",
        "                                     Dense,\n",
        "                                     SimpleRNN,\n",
        "                                     LSTM,\n",
        "                                     Conv2D,\n",
        "                                     Embedding,\n",
        "                                     MaxPooling2D,\n",
        "                                     Flatten,\n",
        ")\n",
        "from tensorflow.keras import optimizers\n",
        "from tensorflow.keras.utils import to_categorical\n",
        "from keras.preprocessing.sequence import pad_sequences\n",
        "from tensorflow.keras.layers.experimental.preprocessing import TextVectorization"
      ]
    },
    {
      "cell_type": "code",
      "execution_count": null,
      "metadata": {
        "id": "eaVYGIOG5mN7"
      },
      "outputs": [],
      "source": [
        "from sklearn.model_selection import train_test_split\n",
        "from sklearn.preprocessing import StandardScaler\n",
        "from sklearn.metrics import confusion_matrix"
      ]
    },
    {
      "cell_type": "code",
      "execution_count": null,
      "metadata": {
        "id": "XKF4hDSiEk57"
      },
      "outputs": [],
      "source": [
        "import numpy as np\n",
        "from pandas import (read_csv,\n",
        "                    DataFrame,\n",
        ")"
      ]
    },
    {
      "cell_type": "code",
      "execution_count": null,
      "metadata": {
        "id": "Ose_qCC7ElNM"
      },
      "outputs": [],
      "source": [
        "import matplotlib.pyplot as plt"
      ]
    },
    {
      "cell_type": "code",
      "execution_count": null,
      "metadata": {
        "id": "2dqJq_6qFpVm"
      },
      "outputs": [],
      "source": [
        "from seaborn import countplot, heatmap"
      ]
    },
    {
      "cell_type": "code",
      "execution_count": null,
      "metadata": {
        "id": "hzTL8bfjtns9"
      },
      "outputs": [],
      "source": [
        "from PIL import Image"
      ]
    },
    {
      "cell_type": "code",
      "execution_count": null,
      "metadata": {
        "id": "RTH9Jz-TpIF7"
      },
      "outputs": [],
      "source": [
        "import requests"
      ]
    },
    {
      "cell_type": "code",
      "execution_count": null,
      "metadata": {
        "id": "J6PfhtDSpHgN"
      },
      "outputs": [],
      "source": [
        "from bs4 import BeautifulSoup"
      ]
    },
    {
      "cell_type": "code",
      "execution_count": null,
      "metadata": {
        "colab": {
          "base_uri": "https://localhost:8080/"
        },
        "id": "VJS8kK4YgfSY",
        "outputId": "9f8f2584-ccb9-4755-eadc-d346798f8f5a"
      },
      "outputs": [
        {
          "name": "stdout",
          "output_type": "stream",
          "text": [
            "Mounted at /content/drive\n"
          ]
        }
      ],
      "source": [
        "from google.colab import drive\n",
        "drive.mount('/content/drive')"
      ]
    },
    {
      "cell_type": "markdown",
      "metadata": {
        "id": "Dzo1LsBfpgNg"
      },
      "source": [
        "## Load Dataset"
      ]
    },
    {
      "cell_type": "code",
      "execution_count": null,
      "metadata": {
        "colab": {
          "base_uri": "https://localhost:8080/"
        },
        "id": "xbck-ogkfAXI",
        "outputId": "757cb590-3343-4f4c-a650-3100661f2057"
      },
      "outputs": [
        {
          "data": {
            "application/vnd.google.colaboratory.intrinsic+json": {
              "summary": "{\n  \"name\": \"df\",\n  \"rows\": 72134,\n  \"fields\": [\n    {\n      \"column\": \"Unnamed: 0\",\n      \"properties\": {\n        \"dtype\": \"number\",\n        \"std\": 20823,\n        \"min\": 0,\n        \"max\": 72133,\n        \"num_unique_values\": 72134,\n        \"samples\": [\n          61370,\n          2189,\n          60609\n        ],\n        \"semantic_type\": \"\",\n        \"description\": \"\"\n      }\n    },\n    {\n      \"column\": \"title\",\n      \"properties\": {\n        \"dtype\": \"string\",\n        \"num_unique_values\": 62347,\n        \"samples\": [\n          \"BBC Under Fire for \\u2018Transgender Diaries\\u2019 Program Aimed at Children as Young as Six\",\n          \" Hillary\\u2019s Running Mate Tim Kaine: The NRA Hates Him, And He Kicked Their Butts (VIDEO)\",\n          \" Trump Outrageously Refers To Elizabeth Warren As \\u2018Pocahontas\\u2019 During Meeting With Senators\"\n        ],\n        \"semantic_type\": \"\",\n        \"description\": \"\"\n      }\n    },\n    {\n      \"column\": \"text\",\n      \"properties\": {\n        \"dtype\": \"string\",\n        \"num_unique_values\": 62718,\n        \"samples\": [\n          \"WASHINGTON (Reuters) - Michael Cohen, one of President Donald Trump\\u2019s closest business advisers, said on Sunday he would testify on Tuesday to the U.S. Senate Intelligence Committee, as the panel investigates alleged Russian interference in the 2016 U.S. election. The timing of Cohen\\u2019s testimony was first reported by NBC. Cohen confirmed that he would testify to the committee on Tuesday and said he did not know whether it would be in a closed session or public. Aides to the committee\\u2019s leaders did not immediately respond to requests for comment. Cohen said previously he had received a subpoena from at least one of the congressional committees investigating what U.S. intelligence has determined were Russia\\u2019s efforts to influence the election on Trump\\u2019s behalf, and whether Trump associates colluded with Russia. Russia denies such activity. The White House denies any collusion, but concerns about the issue and Trump\\u2019s ties to Russia have shadowed the first months of the Republican\\u2019s presidency. Cohen, a personal attorney to Trump, would be one of a series of close associates of the president to testify in Congress. Members of both the Senate and House of Representatives committees conducting investigations have said they expect to call more. Trump\\u2019s oldest son, Donald Trump Jr., testified to the Senate Judiciary Committee earlier this month. \",\n          \"HARARE (Reuters) - Zimbabwe s main opposition leader said on Monday President Robert Mugabe s refusal to resign had dampened people s spirits and called for an inclusive political process in the aftermath of a military intervention last week. Morgan Tsvangirai said there should be an all-stakeholders meeting to chart the country s future and that the next elections due next year should be supervised by the international community. \",\n          \"There is no word yet about whether or not the Hispanics in question were referred to by the plaintiff as  White Hispanics, (the George Zimmerman variety) Legendary restaurant Roscoe s House of Chicken  n Waffles has to cough up $1.6 million in an unlawful termination suit to an African American man who claimed he was discriminated against because he was black.The claim proves to be somewhat ironic given that the owner of the eatery, where President Barack Obama once dined when visiting Compton, is African American.CBS Los Angeles reported that Daniel Beasley sued Roscoe s for firing him after he complained to human resources that the managers harassed him for being black and gave preferential treatment, such as better work hours, to the Hispanic employees. It s owned by an African American owner, but he gives full authority to the Hispanics to run it,  Beasley told reporters.  It just caught me by surprise because here I am getting fired when I m trying to fix the problem. Beasley was frustrated that his complaints to management never got addressed, so he sued.  It s owned by an African American owner, but he gives full authority to the Hispanics to run it,  he told reporters.  It just caught me by surprise because here I am getting fired when I m trying to fix the problem. Beasley explained to CBS that he became homeless after he lost his job, so the hefty settlement becomes a huge victory for the grandfather from Compton.His lawyer Scott Cummings hopes that this win sends a message to other businesses out there.  Racism, racial harassment can occur really anywhere even in a black-owned business,  he asserted. Beasley added,  You can t treat people like that and get away with it constantly.  Via: Breitbart News\"\n        ],\n        \"semantic_type\": \"\",\n        \"description\": \"\"\n      }\n    },\n    {\n      \"column\": \"label\",\n      \"properties\": {\n        \"dtype\": \"number\",\n        \"std\": 0,\n        \"min\": 0,\n        \"max\": 1,\n        \"num_unique_values\": 2,\n        \"samples\": [\n          0,\n          1\n        ],\n        \"semantic_type\": \"\",\n        \"description\": \"\"\n      }\n    }\n  ]\n}",
              "type": "dataframe",
              "variable_name": "df"
            },
            "text/html": [
              "\n",
              "  <div id=\"df-fbdd83bd-5868-45ae-b895-84fc21104aa5\" class=\"colab-df-container\">\n",
              "    <div>\n",
              "<style scoped>\n",
              "    .dataframe tbody tr th:only-of-type {\n",
              "        vertical-align: middle;\n",
              "    }\n",
              "\n",
              "    .dataframe tbody tr th {\n",
              "        vertical-align: top;\n",
              "    }\n",
              "\n",
              "    .dataframe thead th {\n",
              "        text-align: right;\n",
              "    }\n",
              "</style>\n",
              "<table border=\"1\" class=\"dataframe\">\n",
              "  <thead>\n",
              "    <tr style=\"text-align: right;\">\n",
              "      <th></th>\n",
              "      <th>Unnamed: 0</th>\n",
              "      <th>title</th>\n",
              "      <th>text</th>\n",
              "      <th>label</th>\n",
              "    </tr>\n",
              "  </thead>\n",
              "  <tbody>\n",
              "    <tr>\n",
              "      <th>0</th>\n",
              "      <td>0</td>\n",
              "      <td>LAW ENFORCEMENT ON HIGH ALERT Following Threat...</td>\n",
              "      <td>No comment is expected from Barack Obama Membe...</td>\n",
              "      <td>1</td>\n",
              "    </tr>\n",
              "    <tr>\n",
              "      <th>1</th>\n",
              "      <td>1</td>\n",
              "      <td>NaN</td>\n",
              "      <td>Did they post their votes for Hillary already?</td>\n",
              "      <td>1</td>\n",
              "    </tr>\n",
              "    <tr>\n",
              "      <th>2</th>\n",
              "      <td>2</td>\n",
              "      <td>UNBELIEVABLE! OBAMA’S ATTORNEY GENERAL SAYS MO...</td>\n",
              "      <td>Now, most of the demonstrators gathered last ...</td>\n",
              "      <td>1</td>\n",
              "    </tr>\n",
              "    <tr>\n",
              "      <th>3</th>\n",
              "      <td>3</td>\n",
              "      <td>Bobby Jindal, raised Hindu, uses story of Chri...</td>\n",
              "      <td>A dozen politically active pastors came here f...</td>\n",
              "      <td>0</td>\n",
              "    </tr>\n",
              "    <tr>\n",
              "      <th>4</th>\n",
              "      <td>4</td>\n",
              "      <td>SATAN 2: Russia unvelis an image of its terrif...</td>\n",
              "      <td>The RS-28 Sarmat missile, dubbed Satan 2, will...</td>\n",
              "      <td>1</td>\n",
              "    </tr>\n",
              "  </tbody>\n",
              "</table>\n",
              "</div>\n",
              "    <div class=\"colab-df-buttons\">\n",
              "\n",
              "  <div class=\"colab-df-container\">\n",
              "    <button class=\"colab-df-convert\" onclick=\"convertToInteractive('df-fbdd83bd-5868-45ae-b895-84fc21104aa5')\"\n",
              "            title=\"Convert this dataframe to an interactive table.\"\n",
              "            style=\"display:none;\">\n",
              "\n",
              "  <svg xmlns=\"http://www.w3.org/2000/svg\" height=\"24px\" viewBox=\"0 -960 960 960\">\n",
              "    <path d=\"M120-120v-720h720v720H120Zm60-500h600v-160H180v160Zm220 220h160v-160H400v160Zm0 220h160v-160H400v160ZM180-400h160v-160H180v160Zm440 0h160v-160H620v160ZM180-180h160v-160H180v160Zm440 0h160v-160H620v160Z\"/>\n",
              "  </svg>\n",
              "    </button>\n",
              "\n",
              "  <style>\n",
              "    .colab-df-container {\n",
              "      display:flex;\n",
              "      gap: 12px;\n",
              "    }\n",
              "\n",
              "    .colab-df-convert {\n",
              "      background-color: #E8F0FE;\n",
              "      border: none;\n",
              "      border-radius: 50%;\n",
              "      cursor: pointer;\n",
              "      display: none;\n",
              "      fill: #1967D2;\n",
              "      height: 32px;\n",
              "      padding: 0 0 0 0;\n",
              "      width: 32px;\n",
              "    }\n",
              "\n",
              "    .colab-df-convert:hover {\n",
              "      background-color: #E2EBFA;\n",
              "      box-shadow: 0px 1px 2px rgba(60, 64, 67, 0.3), 0px 1px 3px 1px rgba(60, 64, 67, 0.15);\n",
              "      fill: #174EA6;\n",
              "    }\n",
              "\n",
              "    .colab-df-buttons div {\n",
              "      margin-bottom: 4px;\n",
              "    }\n",
              "\n",
              "    [theme=dark] .colab-df-convert {\n",
              "      background-color: #3B4455;\n",
              "      fill: #D2E3FC;\n",
              "    }\n",
              "\n",
              "    [theme=dark] .colab-df-convert:hover {\n",
              "      background-color: #434B5C;\n",
              "      box-shadow: 0px 1px 3px 1px rgba(0, 0, 0, 0.15);\n",
              "      filter: drop-shadow(0px 1px 2px rgba(0, 0, 0, 0.3));\n",
              "      fill: #FFFFFF;\n",
              "    }\n",
              "  </style>\n",
              "\n",
              "    <script>\n",
              "      const buttonEl =\n",
              "        document.querySelector('#df-fbdd83bd-5868-45ae-b895-84fc21104aa5 button.colab-df-convert');\n",
              "      buttonEl.style.display =\n",
              "        google.colab.kernel.accessAllowed ? 'block' : 'none';\n",
              "\n",
              "      async function convertToInteractive(key) {\n",
              "        const element = document.querySelector('#df-fbdd83bd-5868-45ae-b895-84fc21104aa5');\n",
              "        const dataTable =\n",
              "          await google.colab.kernel.invokeFunction('convertToInteractive',\n",
              "                                                    [key], {});\n",
              "        if (!dataTable) return;\n",
              "\n",
              "        const docLinkHtml = 'Like what you see? Visit the ' +\n",
              "          '<a target=\"_blank\" href=https://colab.research.google.com/notebooks/data_table.ipynb>data table notebook</a>'\n",
              "          + ' to learn more about interactive tables.';\n",
              "        element.innerHTML = '';\n",
              "        dataTable['output_type'] = 'display_data';\n",
              "        await google.colab.output.renderOutput(dataTable, element);\n",
              "        const docLink = document.createElement('div');\n",
              "        docLink.innerHTML = docLinkHtml;\n",
              "        element.appendChild(docLink);\n",
              "      }\n",
              "    </script>\n",
              "  </div>\n",
              "\n",
              "\n",
              "<div id=\"df-4c3c3a7d-798c-4b95-a79b-e1a80a675a85\">\n",
              "  <button class=\"colab-df-quickchart\" onclick=\"quickchart('df-4c3c3a7d-798c-4b95-a79b-e1a80a675a85')\"\n",
              "            title=\"Suggest charts\"\n",
              "            style=\"display:none;\">\n",
              "\n",
              "<svg xmlns=\"http://www.w3.org/2000/svg\" height=\"24px\"viewBox=\"0 0 24 24\"\n",
              "     width=\"24px\">\n",
              "    <g>\n",
              "        <path d=\"M19 3H5c-1.1 0-2 .9-2 2v14c0 1.1.9 2 2 2h14c1.1 0 2-.9 2-2V5c0-1.1-.9-2-2-2zM9 17H7v-7h2v7zm4 0h-2V7h2v10zm4 0h-2v-4h2v4z\"/>\n",
              "    </g>\n",
              "</svg>\n",
              "  </button>\n",
              "\n",
              "<style>\n",
              "  .colab-df-quickchart {\n",
              "      --bg-color: #E8F0FE;\n",
              "      --fill-color: #1967D2;\n",
              "      --hover-bg-color: #E2EBFA;\n",
              "      --hover-fill-color: #174EA6;\n",
              "      --disabled-fill-color: #AAA;\n",
              "      --disabled-bg-color: #DDD;\n",
              "  }\n",
              "\n",
              "  [theme=dark] .colab-df-quickchart {\n",
              "      --bg-color: #3B4455;\n",
              "      --fill-color: #D2E3FC;\n",
              "      --hover-bg-color: #434B5C;\n",
              "      --hover-fill-color: #FFFFFF;\n",
              "      --disabled-bg-color: #3B4455;\n",
              "      --disabled-fill-color: #666;\n",
              "  }\n",
              "\n",
              "  .colab-df-quickchart {\n",
              "    background-color: var(--bg-color);\n",
              "    border: none;\n",
              "    border-radius: 50%;\n",
              "    cursor: pointer;\n",
              "    display: none;\n",
              "    fill: var(--fill-color);\n",
              "    height: 32px;\n",
              "    padding: 0;\n",
              "    width: 32px;\n",
              "  }\n",
              "\n",
              "  .colab-df-quickchart:hover {\n",
              "    background-color: var(--hover-bg-color);\n",
              "    box-shadow: 0 1px 2px rgba(60, 64, 67, 0.3), 0 1px 3px 1px rgba(60, 64, 67, 0.15);\n",
              "    fill: var(--button-hover-fill-color);\n",
              "  }\n",
              "\n",
              "  .colab-df-quickchart-complete:disabled,\n",
              "  .colab-df-quickchart-complete:disabled:hover {\n",
              "    background-color: var(--disabled-bg-color);\n",
              "    fill: var(--disabled-fill-color);\n",
              "    box-shadow: none;\n",
              "  }\n",
              "\n",
              "  .colab-df-spinner {\n",
              "    border: 2px solid var(--fill-color);\n",
              "    border-color: transparent;\n",
              "    border-bottom-color: var(--fill-color);\n",
              "    animation:\n",
              "      spin 1s steps(1) infinite;\n",
              "  }\n",
              "\n",
              "  @keyframes spin {\n",
              "    0% {\n",
              "      border-color: transparent;\n",
              "      border-bottom-color: var(--fill-color);\n",
              "      border-left-color: var(--fill-color);\n",
              "    }\n",
              "    20% {\n",
              "      border-color: transparent;\n",
              "      border-left-color: var(--fill-color);\n",
              "      border-top-color: var(--fill-color);\n",
              "    }\n",
              "    30% {\n",
              "      border-color: transparent;\n",
              "      border-left-color: var(--fill-color);\n",
              "      border-top-color: var(--fill-color);\n",
              "      border-right-color: var(--fill-color);\n",
              "    }\n",
              "    40% {\n",
              "      border-color: transparent;\n",
              "      border-right-color: var(--fill-color);\n",
              "      border-top-color: var(--fill-color);\n",
              "    }\n",
              "    60% {\n",
              "      border-color: transparent;\n",
              "      border-right-color: var(--fill-color);\n",
              "    }\n",
              "    80% {\n",
              "      border-color: transparent;\n",
              "      border-right-color: var(--fill-color);\n",
              "      border-bottom-color: var(--fill-color);\n",
              "    }\n",
              "    90% {\n",
              "      border-color: transparent;\n",
              "      border-bottom-color: var(--fill-color);\n",
              "    }\n",
              "  }\n",
              "</style>\n",
              "\n",
              "  <script>\n",
              "    async function quickchart(key) {\n",
              "      const quickchartButtonEl =\n",
              "        document.querySelector('#' + key + ' button');\n",
              "      quickchartButtonEl.disabled = true;  // To prevent multiple clicks.\n",
              "      quickchartButtonEl.classList.add('colab-df-spinner');\n",
              "      try {\n",
              "        const charts = await google.colab.kernel.invokeFunction(\n",
              "            'suggestCharts', [key], {});\n",
              "      } catch (error) {\n",
              "        console.error('Error during call to suggestCharts:', error);\n",
              "      }\n",
              "      quickchartButtonEl.classList.remove('colab-df-spinner');\n",
              "      quickchartButtonEl.classList.add('colab-df-quickchart-complete');\n",
              "    }\n",
              "    (() => {\n",
              "      let quickchartButtonEl =\n",
              "        document.querySelector('#df-4c3c3a7d-798c-4b95-a79b-e1a80a675a85 button');\n",
              "      quickchartButtonEl.style.display =\n",
              "        google.colab.kernel.accessAllowed ? 'block' : 'none';\n",
              "    })();\n",
              "  </script>\n",
              "</div>\n",
              "\n",
              "    </div>\n",
              "  </div>\n"
            ],
            "text/plain": [
              "   Unnamed: 0                                              title  \\\n",
              "0           0  LAW ENFORCEMENT ON HIGH ALERT Following Threat...   \n",
              "1           1                                                NaN   \n",
              "2           2  UNBELIEVABLE! OBAMA’S ATTORNEY GENERAL SAYS MO...   \n",
              "3           3  Bobby Jindal, raised Hindu, uses story of Chri...   \n",
              "4           4  SATAN 2: Russia unvelis an image of its terrif...   \n",
              "\n",
              "                                                text  label  \n",
              "0  No comment is expected from Barack Obama Membe...      1  \n",
              "1     Did they post their votes for Hillary already?      1  \n",
              "2   Now, most of the demonstrators gathered last ...      1  \n",
              "3  A dozen politically active pastors came here f...      0  \n",
              "4  The RS-28 Sarmat missile, dubbed Satan 2, will...      1  "
            ]
          },
          "execution_count": 10,
          "metadata": {},
          "output_type": "execute_result"
        }
      ],
      "source": [
        "df = read_csv('/content/drive/MyDrive/Colab Notebooks/proyectos/WELFake_Dataset.csv')\n",
        "df.head()"
      ]
    },
    {
      "cell_type": "markdown",
      "metadata": {
        "id": "xzWvqPfJNUUD"
      },
      "source": [
        "Cargamos el dataset que usaremos para el entrenamiento de nuetro modelo, y lo definimos como *df*\n"
      ]
    },
    {
      "cell_type": "markdown",
      "metadata": {
        "id": "sYj_eQ0dpvqm"
      },
      "source": [
        "##EDA"
      ]
    },
    {
      "cell_type": "code",
      "execution_count": null,
      "metadata": {
        "colab": {
          "base_uri": "https://localhost:8080/"
        },
        "id": "ETx_UnchIXwE",
        "outputId": "6acc0cd2-9fcf-4220-91fc-43c419590670"
      },
      "outputs": [
        {
          "name": "stdout",
          "output_type": "stream",
          "text": [
            "<class 'pandas.core.frame.DataFrame'>\n",
            "RangeIndex: 72134 entries, 0 to 72133\n",
            "Data columns (total 4 columns):\n",
            " #   Column      Non-Null Count  Dtype \n",
            "---  ------      --------------  ----- \n",
            " 0   Unnamed: 0  72134 non-null  int64 \n",
            " 1   title       71576 non-null  object\n",
            " 2   text        72095 non-null  object\n",
            " 3   label       72134 non-null  int64 \n",
            "dtypes: int64(2), object(2)\n",
            "memory usage: 2.2+ MB\n"
          ]
        }
      ],
      "source": [
        "df.info()"
      ]
    },
    {
      "cell_type": "markdown",
      "metadata": {
        "id": "PnKVEBjJNI4W"
      },
      "source": [
        "Mostramos la información general del dataset; Se muestran los tipos de datos de cada columna, el total de muestras por columna y la existencia de valores nulos. Podemos ver la primera columna la cual no nos serviria para nada, ya que seria como un identificador numerico de cada uno de los valores."
      ]
    },
    {
      "cell_type": "code",
      "execution_count": null,
      "metadata": {
        "colab": {
          "base_uri": "https://localhost:8080/"
        },
        "id": "bbraL69bGmJf",
        "outputId": "717da938-1a0b-4b40-edd1-67b4e5559455"
      },
      "outputs": [
        {
          "data": {
            "text/plain": [
              "0"
            ]
          },
          "execution_count": 12,
          "metadata": {},
          "output_type": "execute_result"
        }
      ],
      "source": [
        "df.duplicated().sum()"
      ]
    },
    {
      "cell_type": "markdown",
      "metadata": {
        "id": "1R3eqroFG1Zr"
      },
      "source": [
        "Acá podremos observar la sumatoria de todos los valores duplicados del dataset, de no existir algun valor duplicado nos imprime un 0"
      ]
    },
    {
      "cell_type": "code",
      "execution_count": null,
      "metadata": {
        "colab": {
          "base_uri": "https://localhost:8080/"
        },
        "id": "AF3tADLpISot",
        "outputId": "a3427e7e-cb34-4288-cd61-7dfc796853dd"
      },
      "outputs": [
        {
          "data": {
            "text/plain": [
              "Unnamed: 0      0\n",
              "title         558\n",
              "text           39\n",
              "label           0\n",
              "dtype: int64"
            ]
          },
          "execution_count": 13,
          "metadata": {},
          "output_type": "execute_result"
        }
      ],
      "source": [
        "df.isnull().sum()"
      ]
    },
    {
      "cell_type": "code",
      "execution_count": null,
      "metadata": {
        "colab": {
          "base_uri": "https://localhost:8080/"
        },
        "id": "K3g-5HI6fAfd",
        "outputId": "6f6d3319-e77d-4abb-e409-d92f829ab2cb"
      },
      "outputs": [
        {
          "name": "stdout",
          "output_type": "stream",
          "text": [
            "Unnamed: 0    0.000000\n",
            "title         0.773560\n",
            "text          0.054066\n",
            "label         0.000000\n",
            "dtype: float64\n"
          ]
        }
      ],
      "source": [
        "print(df.isnull().sum() / len(df)*100)"
      ]
    },
    {
      "cell_type": "markdown",
      "metadata": {
        "id": "Aiv6ZFQqOOXF"
      },
      "source": [
        "Mostramos los valores faltantes de las columnas a trabajar, podemos observar que hay datos faltantes, pero es tan minimo que serian irrelevantes para el dataset"
      ]
    },
    {
      "cell_type": "markdown",
      "metadata": {
        "id": "8IbZwmiaqpCW"
      },
      "source": [
        "<div class=\"alert alert-info\" role=\"alert\">\n",
        "<ul>\n",
        "<li> En términos generales, se suelen considerar los siguientes grados de impacto, dependiendo del porcentaje de valores faltantes (dumb rules):\n",
        "\n",
        "- Menos de 1%: Trivial (no relevante)\n",
        "- 1-5%: Manejable\n",
        "- 5-15%: Manejable mediante métodos sofisticados\n",
        "- Más de 15%: Crítico, con impacto severo en cualquier tipo de interpretación\n",
        "    \n",
        "</div>"
      ]
    },
    {
      "cell_type": "markdown",
      "metadata": {
        "id": "KAiGNKknGBgm"
      },
      "source": [
        "## Data Preprocessing"
      ]
    },
    {
      "cell_type": "code",
      "execution_count": null,
      "metadata": {
        "id": "mIOhB2E-5hre"
      },
      "outputs": [],
      "source": [
        "df.drop(columns=['Unnamed: 0'], inplace=True)"
      ]
    },
    {
      "cell_type": "markdown",
      "metadata": {
        "id": "vdeLS2v4OFkk"
      },
      "source": [
        "Acá borramos dicha columna que no usaremos"
      ]
    },
    {
      "cell_type": "code",
      "execution_count": null,
      "metadata": {
        "id": "46QtU0HnrJ45"
      },
      "outputs": [],
      "source": [
        "df.dropna(inplace=True)"
      ]
    },
    {
      "cell_type": "code",
      "execution_count": null,
      "metadata": {
        "id": "x-es3z9SrZr3"
      },
      "outputs": [],
      "source": [
        "df = df.reset_index(drop=True)"
      ]
    },
    {
      "cell_type": "markdown",
      "metadata": {
        "id": "Xw8qP5QRPThF"
      },
      "source": [
        "Eliminamos los valores faltantes, y reestablecemos los indices del dataframe"
      ]
    },
    {
      "cell_type": "markdown",
      "metadata": {
        "id": "pl75Ecw8Pjt9"
      },
      "source": [
        "## Univariate Analysis"
      ]
    },
    {
      "cell_type": "code",
      "execution_count": null,
      "metadata": {
        "colab": {
          "base_uri": "https://localhost:8080/"
        },
        "id": "OsueYPJ-fAiJ",
        "outputId": "90930fca-1767-4042-c0e9-536155b0ae2c"
      },
      "outputs": [
        {
          "data": {
            "text/plain": [
              "<Axes: ylabel='label'>"
            ]
          },
          "execution_count": 18,
          "metadata": {},
          "output_type": "execute_result"
        },
        {
          "data": {
            "image/png": "[encoded data removed]",
            "text/plain": [
              "<Figure size 640x480 with 1 Axes>"
            ]
          },
          "metadata": {},
          "output_type": "display_data"
        }
      ],
      "source": [
        "df['label'].value_counts().plot.pie(autopct='%.2f')"
      ]
    },
    {
      "cell_type": "code",
      "execution_count": null,
      "metadata": {
        "colab": {
          "base_uri": "https://localhost:8080/"
        },
        "id": "vuOv98fBFUcx",
        "outputId": "7f9d8e24-646a-473e-9331-4226baab864e"
      },
      "outputs": [
        {
          "data": {
            "text/plain": [
              "1    36509\n",
              "0    35028\n",
              "Name: label, dtype: int64"
            ]
          },
          "execution_count": 19,
          "metadata": {},
          "output_type": "execute_result"
        }
      ],
      "source": [
        "df['label'].value_counts()"
      ]
    },
    {
      "cell_type": "markdown",
      "metadata": {
        "id": "LGpepWkMPpUq"
      },
      "source": [
        "Mediante la grafica pie o pastel, observamos que la columna *label* que contiene si la notica es falsa o verdadera, esta muy equilibrada bastante parejo"
      ]
    },
    {
      "cell_type": "markdown",
      "metadata": {
        "id": "dCgQv0qthsn_"
      },
      "source": [
        "## Train and test data"
      ]
    },
    {
      "cell_type": "code",
      "execution_count": null,
      "metadata": {
        "id": "HcJStbtDO7ys"
      },
      "outputs": [],
      "source": [
        "X = df['text']\n",
        "y = df['label']\n",
        "\n",
        "# Dividir los datos en conjunto de entrenamiento y prueba\n",
        "X_train, X_test, y_train, y_test = train_test_split(X,\n",
        "                                                    y,\n",
        "                                                    test_size=0.2,\n",
        "                                                    random_state=42)"
      ]
    },
    {
      "cell_type": "markdown",
      "metadata": {
        "id": "D6T_pzD6P5GN"
      },
      "source": [
        "Antes de llevar acabo la tokenización, definimos nuestras variables *X* y *y*, en este caso usare solo la columna *text* para entrenar mi modelo, la columna *title* no creo que aporte al modelo, al ser un *clickbait* aportaria datos erroneos al modelo."
      ]
    },
    {
      "cell_type": "markdown",
      "metadata": {
        "id": "G-4UAue0PWys"
      },
      "source": [
        "##Tokenization"
      ]
    },
    {
      "cell_type": "code",
      "execution_count": null,
      "metadata": {
        "id": "NCRV702M3CLg"
      },
      "outputs": [],
      "source": [
        "# Definir el TextVectorization con salida de enteros\n",
        "text_vectorizer = TextVectorization(max_tokens=10000,\n",
        "                                    output_mode='int', # El tipo de salida\n",
        "                                    standardize='lower', # Optimizador\n",
        "                                    output_sequence_length=500, # Longitud de salida\n",
        "                                    pad_to_max_tokens=500,\n",
        "                                    )\n",
        "text_vectorizer.adapt(X_train)\n",
        "X_train = text_vectorizer(X_train)\n",
        "X_test = text_vectorizer(X_test)\n"
      ]
    },
    {
      "cell_type": "markdown",
      "metadata": {
        "id": "aQ89BLo1fXlz"
      },
      "source": [
        "Definimos una variable con el *TextVectorization* para transformar el texto y poder trabajar los datos, le aplicamos unos cuantos hiperparametros para mejorar la salida de los datos.\n",
        "\n",
        "Adaptamos con la variable *X_train* y luego vectorizamos sobreescribiendo las variables de conjunto *X*"
      ]
    },
    {
      "cell_type": "markdown",
      "metadata": {
        "id": "T63TOWdkiuwo"
      },
      "source": [
        "## Define the Neural Network"
      ]
    },
    {
      "cell_type": "code",
      "execution_count": null,
      "metadata": {
        "colab": {
          "base_uri": "https://localhost:8080/"
        },
        "id": "OEiKJxC7JSwV",
        "outputId": "dac8efd3-bb08-4667-c456-8c2f84185751"
      },
      "outputs": [
        {
          "name": "stdout",
          "output_type": "stream",
          "text": [
            "Model: \"sequential\"\n",
            "_________________________________________________________________\n",
            " Layer (type)                Output Shape              Param #   \n",
            "=================================================================\n",
            " embedding (Embedding)       (None, 500, 128)          1280000   \n",
            "                                                                 \n",
            " lstm (LSTM)                 (None, 128)               131584    \n",
            "                                                                 \n",
            " dense (Dense)               (None, 1)                 129       \n",
            "                                                                 \n",
            "=================================================================\n",
            "Total params: 1411713 (5.39 MB)\n",
            "Trainable params: 1411713 (5.39 MB)\n",
            "Non-trainable params: 0 (0.00 Byte)\n",
            "_________________________________________________________________\n"
          ]
        }
      ],
      "source": [
        "# Definir el modelo\n",
        "model = Sequential()\n",
        "\n",
        "model.add(Embedding(10000, 128, input_length=500))\n",
        "\n",
        "\n",
        "model.add(LSTM(128))\n",
        "\n",
        "# Agregar una capa densa final con activación sigmoid para la clasificación binaria\n",
        "model.add(Dense(1, activation='sigmoid'))\n",
        "\n",
        "model.summary()"
      ]
    },
    {
      "cell_type": "markdown",
      "metadata": {
        "id": "-SqfJPB_awtk"
      },
      "source": [
        "Definimos nuestro modelo, en este caso utilizando la arquitectura sequential en Keras, consta de una capa de embedding(128 dim con vocabulario de 10.000) para convertir los números enteros en vectores de embeddings, seguida de una capa LSTM(128Unidades) para modelar las dependencias temporales en los datos de secuencia, y finalmente una capa densa con activación sigmoidal para la clasificación binaria."
      ]
    },
    {
      "cell_type": "markdown",
      "metadata": {
        "id": "o_yIMK5KpQ3B"
      },
      "source": [
        "## Compile the model"
      ]
    },
    {
      "cell_type": "code",
      "execution_count": null,
      "metadata": {
        "id": "n6jOxKcLLZrJ"
      },
      "outputs": [],
      "source": [
        "# Compilamos el modelo\n",
        "model.compile(optimizer='adam', loss='binary_crossentropy', metrics=['accuracy'])"
      ]
    },
    {
      "cell_type": "markdown",
      "metadata": {
        "id": "FcO2JBVvpaej"
      },
      "source": [
        "Compilamos el modelo especificando la función de pérdida y el optimizador, este caso con *binary_crossentropy* y *adam*, con la metrica de desempeño *accuracy*"
      ]
    },
    {
      "cell_type": "markdown",
      "metadata": {
        "id": "boXTRzs9parz"
      },
      "source": [
        "## Train the model"
      ]
    },
    {
      "cell_type": "code",
      "execution_count": null,
      "metadata": {
        "colab": {
          "base_uri": "https://localhost:8080/"
        },
        "id": "kwCuBir15qSo",
        "outputId": "78dda0cd-9b6b-4698-c9e4-9a4882a6fc42"
      },
      "outputs": [
        {
          "name": "stdout",
          "output_type": "stream",
          "text": [
            "Epoch 1/3\n",
            "1363/1363 [==============================] - 87s 61ms/step - loss: 0.5365 - accuracy: 0.7056\n",
            "Epoch 2/3\n",
            "1363/1363 [==============================] - 39s 29ms/step - loss: 0.1237 - accuracy: 0.9578\n",
            "Epoch 3/3\n",
            "1363/1363 [==============================] - 32s 23ms/step - loss: 0.0371 - accuracy: 0.9887\n"
          ]
        }
      ],
      "source": [
        "# Entrenamos el modelo\n",
        "history = model.fit(X_train, y_train, epochs=3, batch_size=42)"
      ]
    },
    {
      "cell_type": "markdown",
      "metadata": {
        "id": "FjDcn0Ygpdja"
      },
      "source": [
        "Entrenamos nuestro modelo el cual definimos como *history*, y lo haremos con 3 epocas en este caso. En la sección de evaluación del modelo lo explicare."
      ]
    },
    {
      "cell_type": "markdown",
      "metadata": {
        "id": "tjOhSlp5pdmO"
      },
      "source": [
        "## Evaluate the model"
      ]
    },
    {
      "cell_type": "code",
      "execution_count": null,
      "metadata": {
        "colab": {
          "base_uri": "https://localhost:8080/",
          "height": 453
        },
        "id": "1EPnMdrQQ0UX",
        "outputId": "958e8c0d-3453-4872-f0fc-48b44a5b69e4"
      },
      "outputs": [
        {
          "data": {
            "image/png": "[encoded data removed]",
            "text/plain": [
              "<Figure size 640x480 with 2 Axes>"
            ]
          },
          "metadata": {},
          "output_type": "display_data"
        }
      ],
      "source": [
        "fig = plt.figure()\n",
        "ax1 = fig.add_subplot(2,1,1)\n",
        "ax1.plot(history.history['loss'])\n",
        "ax1.set_title('Función de pérdida del conjunto de entrenamiento')\n",
        "ax2 = fig.add_subplot(2,1,2, sharex= ax1)\n",
        "ax2.plot(history.history['accuracy'])\n",
        "ax2.set_title('Precisión del conjunto de entrenamiento')\n",
        "\n",
        "plt.setp(ax1.get_xticklabels(), visible=False)\n",
        "\n",
        "plt.show()"
      ]
    },
    {
      "cell_type": "markdown",
      "metadata": {
        "id": "vb_kT2FKwz2t"
      },
      "source": [
        "Graficamos la función de perdida y la precisión del modelo conforme avanza de epocas en el entrenamiento. Ya en la epoca 2 se consiguio el 95% de precisión con una perdida de información del 12%, a la epoca 3 era suficiente para el entrenamiento cuidando los recursos disponibles"
      ]
    },
    {
      "cell_type": "code",
      "execution_count": null,
      "metadata": {
        "colab": {
          "base_uri": "https://localhost:8080/"
        },
        "id": "gLGisE32APlr",
        "outputId": "d5da9782-ad6f-4b02-910a-a518e1f4f502"
      },
      "outputs": [
        {
          "name": "stdout",
          "output_type": "stream",
          "text": [
            "448/448 [==============================] - 4s 8ms/step - loss: 0.0447 - accuracy: 0.9848\n",
            "Loss: 0.04466693475842476, Accuracy: 0.9848336577415466\n"
          ]
        }
      ],
      "source": [
        "# Evaluar el modelo en el conjunto de prueba\n",
        "loss, accuracy = model.evaluate(X_test, y_test)\n",
        "print(f'Loss: {loss}, Accuracy: {accuracy}')"
      ]
    },
    {
      "cell_type": "markdown",
      "metadata": {
        "id": "Cv5ly1XXppmZ"
      },
      "source": [
        "Evaluamos nuestro modelo con las metricas de precisión y función de perdida. Nos arroja una perdida de información de un casí 4% y una precisión del 98%"
      ]
    },
    {
      "cell_type": "markdown",
      "metadata": {
        "id": "wD0aLH5Lppw5"
      },
      "source": [
        "## Predict test data"
      ]
    },
    {
      "cell_type": "code",
      "execution_count": null,
      "metadata": {
        "colab": {
          "base_uri": "https://localhost:8080/"
        },
        "id": "UMKoPJMrdkUk",
        "outputId": "c727b3ea-b251-488a-b329-66290707dc74"
      },
      "outputs": [
        {
          "name": "stdout",
          "output_type": "stream",
          "text": [
            "448/448 [==============================] - 4s 7ms/step\n",
            "[[9.9916887e-01]\n",
            " [4.8479729e-04]\n",
            " [2.8683492e-03]\n",
            " ...\n",
            " [9.9893659e-01]\n",
            " [3.7822025e-03]\n",
            " [9.9452496e-01]]\n"
          ]
        }
      ],
      "source": [
        "predicciones = model.predict(X_test)\n",
        "print(predicciones)"
      ]
    },
    {
      "cell_type": "markdown",
      "metadata": {
        "id": "1-6pSeKsUhlz"
      },
      "source": [
        "Aplicamos un *predict* con nuestro modelo al conjunto de prueba *X_test*, y lo definimos como *predicciones*"
      ]
    },
    {
      "cell_type": "code",
      "execution_count": null,
      "metadata": {
        "colab": {
          "base_uri": "https://localhost:8080/",
          "height": 363
        },
        "id": "awvGIWLjdNlb",
        "outputId": "95561615-233a-4440-e846-2f27eb66e8a3"
      },
      "outputs": [
        {
          "data": {
            "application/vnd.google.colaboratory.intrinsic+json": {
              "summary": "{\n  \"name\": \"predic_si\",\n  \"rows\": 14308,\n  \"fields\": [\n    {\n      \"column\": \"Real\",\n      \"properties\": {\n        \"dtype\": \"number\",\n        \"std\": 0,\n        \"min\": 0,\n        \"max\": 1,\n        \"num_unique_values\": 2,\n        \"samples\": [\n          0,\n          1\n        ],\n        \"semantic_type\": \"\",\n        \"description\": \"\"\n      }\n    },\n    {\n      \"column\": \"Predicci\\u00f3n\",\n      \"properties\": {\n        \"dtype\": \"float32\",\n        \"num_unique_values\": 12713,\n        \"samples\": [\n          0.0018279125215485692,\n          0.0008517469395883381\n        ],\n        \"semantic_type\": \"\",\n        \"description\": \"\"\n      }\n    }\n  ]\n}",
              "type": "dataframe",
              "variable_name": "predic_si"
            },
            "text/html": [
              "\n",
              "  <div id=\"df-13e2b0e9-f4ce-4986-a1c7-a792917a0a96\" class=\"colab-df-container\">\n",
              "    <div>\n",
              "<style scoped>\n",
              "    .dataframe tbody tr th:only-of-type {\n",
              "        vertical-align: middle;\n",
              "    }\n",
              "\n",
              "    .dataframe tbody tr th {\n",
              "        vertical-align: top;\n",
              "    }\n",
              "\n",
              "    .dataframe thead th {\n",
              "        text-align: right;\n",
              "    }\n",
              "</style>\n",
              "<table border=\"1\" class=\"dataframe\">\n",
              "  <thead>\n",
              "    <tr style=\"text-align: right;\">\n",
              "      <th></th>\n",
              "      <th>Real</th>\n",
              "      <th>Predicción</th>\n",
              "    </tr>\n",
              "  </thead>\n",
              "  <tbody>\n",
              "    <tr>\n",
              "      <th>53925</th>\n",
              "      <td>1</td>\n",
              "      <td>0.999169</td>\n",
              "    </tr>\n",
              "    <tr>\n",
              "      <th>6939</th>\n",
              "      <td>0</td>\n",
              "      <td>0.000485</td>\n",
              "    </tr>\n",
              "    <tr>\n",
              "      <th>28713</th>\n",
              "      <td>0</td>\n",
              "      <td>0.002868</td>\n",
              "    </tr>\n",
              "    <tr>\n",
              "      <th>65420</th>\n",
              "      <td>1</td>\n",
              "      <td>0.996083</td>\n",
              "    </tr>\n",
              "    <tr>\n",
              "      <th>2286</th>\n",
              "      <td>0</td>\n",
              "      <td>0.001370</td>\n",
              "    </tr>\n",
              "    <tr>\n",
              "      <th>34184</th>\n",
              "      <td>1</td>\n",
              "      <td>0.998988</td>\n",
              "    </tr>\n",
              "    <tr>\n",
              "      <th>29103</th>\n",
              "      <td>1</td>\n",
              "      <td>0.994738</td>\n",
              "    </tr>\n",
              "    <tr>\n",
              "      <th>26688</th>\n",
              "      <td>0</td>\n",
              "      <td>0.001819</td>\n",
              "    </tr>\n",
              "    <tr>\n",
              "      <th>42956</th>\n",
              "      <td>1</td>\n",
              "      <td>0.958652</td>\n",
              "    </tr>\n",
              "    <tr>\n",
              "      <th>65156</th>\n",
              "      <td>1</td>\n",
              "      <td>0.999581</td>\n",
              "    </tr>\n",
              "  </tbody>\n",
              "</table>\n",
              "</div>\n",
              "    <div class=\"colab-df-buttons\">\n",
              "\n",
              "  <div class=\"colab-df-container\">\n",
              "    <button class=\"colab-df-convert\" onclick=\"convertToInteractive('df-13e2b0e9-f4ce-4986-a1c7-a792917a0a96')\"\n",
              "            title=\"Convert this dataframe to an interactive table.\"\n",
              "            style=\"display:none;\">\n",
              "\n",
              "  <svg xmlns=\"http://www.w3.org/2000/svg\" height=\"24px\" viewBox=\"0 -960 960 960\">\n",
              "    <path d=\"M120-120v-720h720v720H120Zm60-500h600v-160H180v160Zm220 220h160v-160H400v160Zm0 220h160v-160H400v160ZM180-400h160v-160H180v160Zm440 0h160v-160H620v160ZM180-180h160v-160H180v160Zm440 0h160v-160H620v160Z\"/>\n",
              "  </svg>\n",
              "    </button>\n",
              "\n",
              "  <style>\n",
              "    .colab-df-container {\n",
              "      display:flex;\n",
              "      gap: 12px;\n",
              "    }\n",
              "\n",
              "    .colab-df-convert {\n",
              "      background-color: #E8F0FE;\n",
              "      border: none;\n",
              "      border-radius: 50%;\n",
              "      cursor: pointer;\n",
              "      display: none;\n",
              "      fill: #1967D2;\n",
              "      height: 32px;\n",
              "      padding: 0 0 0 0;\n",
              "      width: 32px;\n",
              "    }\n",
              "\n",
              "    .colab-df-convert:hover {\n",
              "      background-color: #E2EBFA;\n",
              "      box-shadow: 0px 1px 2px rgba(60, 64, 67, 0.3), 0px 1px 3px 1px rgba(60, 64, 67, 0.15);\n",
              "      fill: #174EA6;\n",
              "    }\n",
              "\n",
              "    .colab-df-buttons div {\n",
              "      margin-bottom: 4px;\n",
              "    }\n",
              "\n",
              "    [theme=dark] .colab-df-convert {\n",
              "      background-color: #3B4455;\n",
              "      fill: #D2E3FC;\n",
              "    }\n",
              "\n",
              "    [theme=dark] .colab-df-convert:hover {\n",
              "      background-color: #434B5C;\n",
              "      box-shadow: 0px 1px 3px 1px rgba(0, 0, 0, 0.15);\n",
              "      filter: drop-shadow(0px 1px 2px rgba(0, 0, 0, 0.3));\n",
              "      fill: #FFFFFF;\n",
              "    }\n",
              "  </style>\n",
              "\n",
              "    <script>\n",
              "      const buttonEl =\n",
              "        document.querySelector('#df-13e2b0e9-f4ce-4986-a1c7-a792917a0a96 button.colab-df-convert');\n",
              "      buttonEl.style.display =\n",
              "        google.colab.kernel.accessAllowed ? 'block' : 'none';\n",
              "\n",
              "      async function convertToInteractive(key) {\n",
              "        const element = document.querySelector('#df-13e2b0e9-f4ce-4986-a1c7-a792917a0a96');\n",
              "        const dataTable =\n",
              "          await google.colab.kernel.invokeFunction('convertToInteractive',\n",
              "                                                    [key], {});\n",
              "        if (!dataTable) return;\n",
              "\n",
              "        const docLinkHtml = 'Like what you see? Visit the ' +\n",
              "          '<a target=\"_blank\" href=https://colab.research.google.com/notebooks/data_table.ipynb>data table notebook</a>'\n",
              "          + ' to learn more about interactive tables.';\n",
              "        element.innerHTML = '';\n",
              "        dataTable['output_type'] = 'display_data';\n",
              "        await google.colab.output.renderOutput(dataTable, element);\n",
              "        const docLink = document.createElement('div');\n",
              "        docLink.innerHTML = docLinkHtml;\n",
              "        element.appendChild(docLink);\n",
              "      }\n",
              "    </script>\n",
              "  </div>\n",
              "\n",
              "\n",
              "<div id=\"df-6c3f47f1-0feb-4eb8-8cf9-902269843d13\">\n",
              "  <button class=\"colab-df-quickchart\" onclick=\"quickchart('df-6c3f47f1-0feb-4eb8-8cf9-902269843d13')\"\n",
              "            title=\"Suggest charts\"\n",
              "            style=\"display:none;\">\n",
              "\n",
              "<svg xmlns=\"http://www.w3.org/2000/svg\" height=\"24px\"viewBox=\"0 0 24 24\"\n",
              "     width=\"24px\">\n",
              "    <g>\n",
              "        <path d=\"M19 3H5c-1.1 0-2 .9-2 2v14c0 1.1.9 2 2 2h14c1.1 0 2-.9 2-2V5c0-1.1-.9-2-2-2zM9 17H7v-7h2v7zm4 0h-2V7h2v10zm4 0h-2v-4h2v4z\"/>\n",
              "    </g>\n",
              "</svg>\n",
              "  </button>\n",
              "\n",
              "<style>\n",
              "  .colab-df-quickchart {\n",
              "      --bg-color: #E8F0FE;\n",
              "      --fill-color: #1967D2;\n",
              "      --hover-bg-color: #E2EBFA;\n",
              "      --hover-fill-color: #174EA6;\n",
              "      --disabled-fill-color: #AAA;\n",
              "      --disabled-bg-color: #DDD;\n",
              "  }\n",
              "\n",
              "  [theme=dark] .colab-df-quickchart {\n",
              "      --bg-color: #3B4455;\n",
              "      --fill-color: #D2E3FC;\n",
              "      --hover-bg-color: #434B5C;\n",
              "      --hover-fill-color: #FFFFFF;\n",
              "      --disabled-bg-color: #3B4455;\n",
              "      --disabled-fill-color: #666;\n",
              "  }\n",
              "\n",
              "  .colab-df-quickchart {\n",
              "    background-color: var(--bg-color);\n",
              "    border: none;\n",
              "    border-radius: 50%;\n",
              "    cursor: pointer;\n",
              "    display: none;\n",
              "    fill: var(--fill-color);\n",
              "    height: 32px;\n",
              "    padding: 0;\n",
              "    width: 32px;\n",
              "  }\n",
              "\n",
              "  .colab-df-quickchart:hover {\n",
              "    background-color: var(--hover-bg-color);\n",
              "    box-shadow: 0 1px 2px rgba(60, 64, 67, 0.3), 0 1px 3px 1px rgba(60, 64, 67, 0.15);\n",
              "    fill: var(--button-hover-fill-color);\n",
              "  }\n",
              "\n",
              "  .colab-df-quickchart-complete:disabled,\n",
              "  .colab-df-quickchart-complete:disabled:hover {\n",
              "    background-color: var(--disabled-bg-color);\n",
              "    fill: var(--disabled-fill-color);\n",
              "    box-shadow: none;\n",
              "  }\n",
              "\n",
              "  .colab-df-spinner {\n",
              "    border: 2px solid var(--fill-color);\n",
              "    border-color: transparent;\n",
              "    border-bottom-color: var(--fill-color);\n",
              "    animation:\n",
              "      spin 1s steps(1) infinite;\n",
              "  }\n",
              "\n",
              "  @keyframes spin {\n",
              "    0% {\n",
              "      border-color: transparent;\n",
              "      border-bottom-color: var(--fill-color);\n",
              "      border-left-color: var(--fill-color);\n",
              "    }\n",
              "    20% {\n",
              "      border-color: transparent;\n",
              "      border-left-color: var(--fill-color);\n",
              "      border-top-color: var(--fill-color);\n",
              "    }\n",
              "    30% {\n",
              "      border-color: transparent;\n",
              "      border-left-color: var(--fill-color);\n",
              "      border-top-color: var(--fill-color);\n",
              "      border-right-color: var(--fill-color);\n",
              "    }\n",
              "    40% {\n",
              "      border-color: transparent;\n",
              "      border-right-color: var(--fill-color);\n",
              "      border-top-color: var(--fill-color);\n",
              "    }\n",
              "    60% {\n",
              "      border-color: transparent;\n",
              "      border-right-color: var(--fill-color);\n",
              "    }\n",
              "    80% {\n",
              "      border-color: transparent;\n",
              "      border-right-color: var(--fill-color);\n",
              "      border-bottom-color: var(--fill-color);\n",
              "    }\n",
              "    90% {\n",
              "      border-color: transparent;\n",
              "      border-bottom-color: var(--fill-color);\n",
              "    }\n",
              "  }\n",
              "</style>\n",
              "\n",
              "  <script>\n",
              "    async function quickchart(key) {\n",
              "      const quickchartButtonEl =\n",
              "        document.querySelector('#' + key + ' button');\n",
              "      quickchartButtonEl.disabled = true;  // To prevent multiple clicks.\n",
              "      quickchartButtonEl.classList.add('colab-df-spinner');\n",
              "      try {\n",
              "        const charts = await google.colab.kernel.invokeFunction(\n",
              "            'suggestCharts', [key], {});\n",
              "      } catch (error) {\n",
              "        console.error('Error during call to suggestCharts:', error);\n",
              "      }\n",
              "      quickchartButtonEl.classList.remove('colab-df-spinner');\n",
              "      quickchartButtonEl.classList.add('colab-df-quickchart-complete');\n",
              "    }\n",
              "    (() => {\n",
              "      let quickchartButtonEl =\n",
              "        document.querySelector('#df-6c3f47f1-0feb-4eb8-8cf9-902269843d13 button');\n",
              "      quickchartButtonEl.style.display =\n",
              "        google.colab.kernel.accessAllowed ? 'block' : 'none';\n",
              "    })();\n",
              "  </script>\n",
              "</div>\n",
              "\n",
              "    </div>\n",
              "  </div>\n"
            ],
            "text/plain": [
              "       Real  Predicción\n",
              "53925     1    0.999169\n",
              "6939      0    0.000485\n",
              "28713     0    0.002868\n",
              "65420     1    0.996083\n",
              "2286      0    0.001370\n",
              "34184     1    0.998988\n",
              "29103     1    0.994738\n",
              "26688     0    0.001819\n",
              "42956     1    0.958652\n",
              "65156     1    0.999581"
            ]
          },
          "execution_count": 28,
          "metadata": {},
          "output_type": "execute_result"
        }
      ],
      "source": [
        "predicciones_flat = predicciones.flatten()\n",
        "predic_si = DataFrame({'Real': y_test,\n",
        "                     'Predicción': predicciones_flat})\n",
        "predic_si.head(10)"
      ]
    },
    {
      "cell_type": "markdown",
      "metadata": {
        "id": "Ep3wn2DWVlXR"
      },
      "source": [
        "Les mostrare una comparación con los datos reales frente a los predichos, para poder mostrarlo en un dataframe, aplane las muestras para poder trabajarlas en un dataframe"
      ]
    },
    {
      "cell_type": "code",
      "execution_count": null,
      "metadata": {
        "id": "rXhTTu7agkbN"
      },
      "outputs": [],
      "source": [
        "umbral = 0.5  # Umbral de decisión para la clasificación binaria\n",
        "predicciones_binarias = np.where(predicciones >= umbral, 1, 0)\n",
        "\n",
        "# Calcular la matriz de confusión\n",
        "cm = confusion_matrix(y_test, predicciones_binarias)"
      ]
    },
    {
      "cell_type": "markdown",
      "metadata": {
        "id": "vAWdnbCrFzTM"
      },
      "source": [
        "Para lograr graficar nuestra matriz de confusión y observar el desempeño, ambas varibles deben ser de valor *0* o *1*, es decir, es un problema de clasificación binaria. Definimos una variable con un umbrar definido, de manera que los \"rendondee\" a *0* o *1*"
      ]
    },
    {
      "cell_type": "code",
      "execution_count": null,
      "metadata": {
        "colab": {
          "base_uri": "https://localhost:8080/",
          "height": 472
        },
        "id": "qYWTboDagkd6",
        "outputId": "1982bcce-54b5-4836-b625-39da29c234f8"
      },
      "outputs": [
        {
          "data": {
            "image/png": "[encoded data removed]",
            "text/plain": [
              "<Figure size 640x480 with 2 Axes>"
            ]
          },
          "metadata": {},
          "output_type": "display_data"
        }
      ],
      "source": [
        "heatmap(cm, annot= True, fmt= '.0f', cmap= 'winter')\n",
        "plt.title('Matriz de confusión')\n",
        "plt.xlabel('Valor predicho')\n",
        "plt.ylabel('Valor real')\n",
        "plt.show()"
      ]
    },
    {
      "cell_type": "markdown",
      "metadata": {
        "id": "7U3rka8sDAaN"
      },
      "source": [
        "Graficamos el desempeño del modelo con esta matriz de confusión la cual nos arroja un buen desempeño, ya que ha acertado en su gran mayoria a los *True positive * y *True negative*"
      ]
    },
    {
      "cell_type": "markdown",
      "metadata": {
        "id": "eJiaz0eTWD2o"
      },
      "source": [
        "Ya con nuestro modelo listo, lo usaremos para corroborar si las siguientes noticias son falsas o verdaderas."
      ]
    },
    {
      "cell_type": "markdown",
      "metadata": {
        "id": "A6nBNJtwPso9"
      },
      "source": [
        "#Parse a fakenew"
      ]
    },
    {
      "cell_type": "markdown",
      "metadata": {
        "id": "AUS_bVZJEmsI"
      },
      "source": [
        "## Load Data"
      ]
    },
    {
      "cell_type": "markdown",
      "metadata": {
        "id": "jwczGP2-Equg"
      },
      "source": [
        "## HTLM extraction"
      ]
    },
    {
      "cell_type": "code",
      "execution_count": null,
      "metadata": {
        "id": "nWbdUssZPhrE"
      },
      "outputs": [],
      "source": [
        "url = \"https://www.breitbart.com/politics/2016/09/10/exposed-fbi-director-james-comeys-clinton-foundation-connection/\""
      ]
    },
    {
      "cell_type": "markdown",
      "metadata": {
        "id": "R1rNF24DWbZ5"
      },
      "source": [
        "Definimos una variable con la dirección de la pagina web donde proviene la noticia"
      ]
    },
    {
      "cell_type": "code",
      "execution_count": null,
      "metadata": {
        "id": "Op4HMZ5sPxIr"
      },
      "outputs": [],
      "source": [
        "response = requests.get(url)\n",
        "if response.status_code != 200:\n",
        "    raise Exception(\"URL was not found\")\n",
        "\n",
        "text = response.text"
      ]
    },
    {
      "cell_type": "markdown",
      "metadata": {
        "id": "Sv1fkznkWmbY"
      },
      "source": [
        "Acá sacamos toda la información de la pagina web, en caso de ser una dirección erronea, me arrojaria una advertencia"
      ]
    },
    {
      "cell_type": "code",
      "execution_count": null,
      "metadata": {
        "colab": {
          "base_uri": "https://localhost:8080/",
          "height": 157
        },
        "collapsed": true,
        "id": "5Vai6EhyagCb",
        "outputId": "e3c072f5-1e73-4e8e-a913-ce10ea4c93bf"
      },
      "outputs": [],
      "source": [
        "#display(text)"
      ]
    },
    {
      "cell_type": "markdown",
      "metadata": {
        "id": "kgU4KbGKap1v"
      },
      "source": [
        "Así se ve la noticia antes del pre-procesamiento"
      ]
    },
    {
      "cell_type": "markdown",
      "metadata": {
        "id": "OFwzyiIYE4ot"
      },
      "source": [
        "## Text Processing"
      ]
    },
    {
      "cell_type": "code",
      "execution_count": null,
      "metadata": {
        "id": "bZfIbC0CPxLV"
      },
      "outputs": [],
      "source": [
        "soup = BeautifulSoup(text, \"html.parser\")"
      ]
    },
    {
      "cell_type": "code",
      "execution_count": null,
      "metadata": {
        "id": "ci_3rPrIPxOI"
      },
      "outputs": [],
      "source": [
        "main = soup.find(id=\"MainW\")\n",
        "\n",
        "paragraphs = main.findAll(\"p\")\n",
        "\n",
        "content = \"\"\n",
        "for paragraph in paragraphs:\n",
        "    content = content + paragraph.get_text()\n",
        "\n",
        "texto_lista = [content]"
      ]
    },
    {
      "cell_type": "markdown",
      "metadata": {
        "id": "Ufn56xS1HeGI"
      },
      "source": [
        "Acá definimos una variable con la extracción del texto del HTLM, luego iteramos por parrafos y seleccionado con el *id* especificamente la noticia y todo almacenandolo en la variable *texto lista*. Para aplicarle la tokenización tuve que hacerla lista, por eso lo de la linea 9."
      ]
    },
    {
      "cell_type": "code",
      "execution_count": null,
      "metadata": {
        "colab": {
          "base_uri": "https://localhost:8080/"
        },
        "collapsed": true,
        "id": "rK8xlk_oaz1U",
        "outputId": "ef3b032a-ee30-42be-9c44-ab606c1dc508"
      },
      "outputs": [],
      "source": [
        "#print(texto_lista)"
      ]
    },
    {
      "cell_type": "markdown",
      "metadata": {
        "id": "NfLUCljva5U_"
      },
      "source": [
        "Ahora va tomando mejor forma, así se  ve luego de pre-procesamiento de texto."
      ]
    },
    {
      "cell_type": "markdown",
      "metadata": {
        "id": "9QivR163ITWG"
      },
      "source": [
        "## Tokenization"
      ]
    },
    {
      "cell_type": "code",
      "execution_count": null,
      "metadata": {
        "id": "RGvCynCtLuH-"
      },
      "outputs": [],
      "source": [
        "new_vocab_size = 597\n",
        "new_text_vectorizer = TextVectorization(max_tokens=new_vocab_size,\n",
        "                                        standardize='lower',\n",
        "                                        output_mode='int',\n",
        "                                        output_sequence_length=500, # Longitud de salida\n",
        "                                        pad_to_max_tokens=500,\n",
        "                                        )\n",
        "\n",
        "new_text_vectorizer.adapt(texto_lista)\n",
        "vectorized_text_fake = new_text_vectorizer(texto_lista)"
      ]
    },
    {
      "cell_type": "markdown",
      "metadata": {
        "id": "fXjozKshIXUD"
      },
      "source": [
        "Tokenizamos el texto de la noticia, modifique unos hiperparametros como el maximo de tokens colocandole exacto al texto, del resto los mismos al que use en el modelo."
      ]
    },
    {
      "cell_type": "code",
      "execution_count": null,
      "metadata": {
        "colab": {
          "base_uri": "https://localhost:8080/"
        },
        "id": "DltgdC7pd-xS",
        "outputId": "7c183b57-1eee-4b2d-a346-1caa1b929ccf"
      },
      "outputs": [
        {
          "data": {
            "text/plain": [
              "<tf.Tensor: shape=(1, 500), dtype=int64, numpy=\n",
              "array([[ 52,  71,  34,   5, 268,   7,  22,  25,  15,  26, 101, 410,   6,\n",
              "         95, 246,   9,   2,  36, 542, 379,  34, 335,  85, 441,  10,  14,\n",
              "        126,   7,   2, 120,   7,  46,  11,  34,  16, 486, 457,   4,   2,\n",
              "        562, 490, 489,   7,  52,  71, 409,   6, 101,  95,  34, 150, 206,\n",
              "         18,  28, 582,   2, 140,  79, 337,  11,  34, 273, 559, 138,   9,\n",
              "        414, 418, 303,   2, 492, 299, 138, 438,  12, 353,   7, 472,   9,\n",
              "          8,   1,  17,   5,  11,  21, 485, 501,  26, 131, 355,  12,   5,\n",
              "         11,  21, 496, 319, 555,   6,  14, 225,  39,  55,  19,  14,  42,\n",
              "         13,  48,  50, 174,  29,   2,  60,  38,   9, 473,   2,  11, 434,\n",
              "        221, 363, 103,  36, 338,   8,   3,  31,  22,  25,   4, 153,   8,\n",
              "        295,   2, 205, 235, 255,   9,  28,  79, 275, 411,  12, 150, 534,\n",
              "        390, 131, 459,   8, 465, 156,  44,   4, 109,  78, 585,  17,  45,\n",
              "        364,  45,  30,  32,   5,  11,  21, 468,   9, 197, 172, 251,  18,\n",
              "        482, 570,  68,  85, 384, 574,  10,  86, 171,   7,   2,  49, 594,\n",
              "        186,  28,  59,   2,  49,  75,  28,  82, 478,   3,  45,  30,   6,\n",
              "         32, 196, 302, 596,  18,   5,  68, 494, 112, 349,  70,  15,   8,\n",
              "        366,  17,  45,  30,   4,  14, 381,  78,  19,   2, 519, 184,  28,\n",
              "         59,   4,   1, 347, 219, 156,  44,   4, 518,  30,  16,   5,  11,\n",
              "         21, 467,  73, 592,   3, 567,   5,  11, 426,  63,  58,   4,   1,\n",
              "          3, 279,  30,  16, 149,   5,  58,   7,   2, 584, 533,   7, 522,\n",
              "          4, 464, 182, 561,  11,   1,   3, 484,   5, 240, 389,   1,  30,\n",
              "        177,   1, 575,  10,  57, 500,  17,   2,  46,  11, 236, 483, 406,\n",
              "        153,   8,  32,   5, 556, 356,   5, 476,   6,   5,  39, 224, 193,\n",
              "        520,  58,   7,   2, 371, 146,  64, 407,  26, 576,  81, 145,  10,\n",
              "         33, 393, 211, 220, 183, 230,   3, 283,  41, 248,  81, 452,  29,\n",
              "          2, 514,   7,   2, 152, 581,  68, 357,  76,   3,  64,  73, 277,\n",
              "        123,   6,  62, 198, 311, 551, 264, 105,  19,   2,  11, 435, 392,\n",
              "         64, 123,  47, 321,  19, 481, 146,  53,   2,  11,  21,   3, 159,\n",
              "          1,   3,   1,  65, 204, 301,   4,   2, 369,   3, 351, 257,   4,\n",
              "        162, 170, 531, 274,   3,   5, 129,  63,   3, 137, 133,   4, 521,\n",
              "         65, 203,  11,  21,  96,  93,   9,   2,  21, 297, 167, 560,   4,\n",
              "        442,  10,  87, 129,  63,   3, 137, 316, 133,   4, 368,  65, 202,\n",
              "         16,  13, 525, 325, 242, 541,   2, 532, 329,   7,  71,  60,  38,\n",
              "         24,  27,   6, 573,  10, 161, 526,   5, 281, 401,  98, 124,  53,\n",
              "          3,  26, 479, 374, 139,  13,   8,  16,  43, 446,  12,   2,  24,\n",
              "         27, 189,   8, 250,  18,  77,  25,   7,  20,  23, 108,  10,   2,\n",
              "        148,  10,  24, 310,  15,   8,  35,  43, 288, 151,  14,  55,  19,\n",
              "         13,   8,   4,  14, 513, 416,  27,  16,   2,  38,   9, 315,   2,\n",
              "        397, 569,   2,  11,  21,   4]])>"
            ]
          },
          "execution_count": 36,
          "metadata": {},
          "output_type": "execute_result"
        }
      ],
      "source": [
        "vectorized_text_fake"
      ]
    },
    {
      "cell_type": "markdown",
      "metadata": {
        "id": "4UamtJIbK3rB"
      },
      "source": [
        "Una impresión de como se ve la noticia luego de tokenizar, un tensor con valores enteros"
      ]
    },
    {
      "cell_type": "markdown",
      "metadata": {
        "id": "7G8lt_MCJ3Wk"
      },
      "source": [
        "## Predict a fakenews"
      ]
    },
    {
      "cell_type": "code",
      "execution_count": null,
      "metadata": {
        "colab": {
          "base_uri": "https://localhost:8080/"
        },
        "id": "o5fL4SnHB2Fy",
        "outputId": "a1fa2ba9-f7f1-44ca-fe5a-c574d231f5cd"
      },
      "outputs": [
        {
          "name": "stdout",
          "output_type": "stream",
          "text": [
            "1/1 [==============================] - 0s 24ms/step\n"
          ]
        }
      ],
      "source": [
        "prediction = model.predict(vectorized_text_fake)"
      ]
    },
    {
      "cell_type": "code",
      "execution_count": null,
      "metadata": {
        "colab": {
          "base_uri": "https://localhost:8080/"
        },
        "id": "EjcWRu7kFu5B",
        "outputId": "1f3aa368-5318-47ed-e034-eed41df26be4"
      },
      "outputs": [
        {
          "data": {
            "text/plain": [
              "array([[0.00081492]], dtype=float32)"
            ]
          },
          "execution_count": 38,
          "metadata": {},
          "output_type": "execute_result"
        }
      ],
      "source": [
        "prediction"
      ]
    },
    {
      "cell_type": "markdown",
      "metadata": {
        "id": "khQGy0BzJ_sd"
      },
      "source": [
        "Ya con el texto tokenizado, vectorizado y en una lista, procedemos a aplicar un *predict* con nuestro modelo, y una impresión de como se ve el valor del array"
      ]
    },
    {
      "cell_type": "code",
      "execution_count": null,
      "metadata": {
        "colab": {
          "base_uri": "https://localhost:8080/"
        },
        "id": "vz0EXE1LLVov",
        "outputId": "3b619188-bd8e-4504-eee6-c915c60af053"
      },
      "outputs": [
        {
          "name": "stdout",
          "output_type": "stream",
          "text": [
            "La noticia es falsa.\n"
          ]
        }
      ],
      "source": [
        "if prediction >= 0.5:\n",
        "    print(\"La noticia es verdadera.\")\n",
        "else:\n",
        "    print(\"La noticia es falsa.\")"
      ]
    },
    {
      "cell_type": "markdown",
      "metadata": {
        "id": "UjLGQC5AKXlf"
      },
      "source": [
        "Con un *if* sabremos si la noticia es verdadera o falsa, si su valor es igual o mayor a *0.5* es verdadera, si no se cumple, es falsa"
      ]
    },
    {
      "cell_type": "markdown",
      "metadata": {
        "id": "8NhTh8s2Nkj2"
      },
      "source": [
        "##Parse a new"
      ]
    },
    {
      "cell_type": "markdown",
      "metadata": {
        "id": "YSavGN9MWuQ_"
      },
      "source": [
        "## Load data"
      ]
    },
    {
      "cell_type": "markdown",
      "metadata": {
        "id": "FAT3rNU1Wztw"
      },
      "source": [
        "## HTML extraction"
      ]
    },
    {
      "cell_type": "code",
      "execution_count": null,
      "metadata": {
        "id": "IhTxHblsNhk5"
      },
      "outputs": [],
      "source": [
        "url_2 = \"https://www.washingtonpost.com/sports/2022/11/14/world-cup-female-referee-kathryn-nesbitt/\""
      ]
    },
    {
      "cell_type": "markdown",
      "metadata": {
        "id": "VvvDJjHmXH8R"
      },
      "source": [
        "Definimos una variable con la dirección de la pagina web donde proviene la noticia"
      ]
    },
    {
      "cell_type": "code",
      "execution_count": null,
      "metadata": {
        "id": "Bx4_tTusNh9h"
      },
      "outputs": [],
      "source": [
        "response = requests.get(url_2)\n",
        "if response.status_code != 200:\n",
        "    raise Exception(\"URL was not found\")\n",
        "\n",
        "text_2 = response.text"
      ]
    },
    {
      "cell_type": "markdown",
      "metadata": {
        "id": "6O41kY81XNV5"
      },
      "source": [
        "Acá sacamos toda la información de la pagina web, en caso de ser una dirección erronea, me arrojaria una advertencia"
      ]
    },
    {
      "cell_type": "code",
      "execution_count": null,
      "metadata": {
        "colab": {
          "base_uri": "https://localhost:8080/",
          "height": 157
        },
        "collapsed": true,
        "id": "BI2oq8cxbTgi",
        "outputId": "a9e37c29-cb94-40c1-f53a-9cef767e8c08"
      },
      "outputs": [],
      "source": [
        "#display(text_2)"
      ]
    },
    {
      "cell_type": "markdown",
      "metadata": {
        "id": "5PwR3uVWbXmx"
      },
      "source": [
        "Lo mismo con la segunda noticia, aca con el texto de la noticia sin pre-procesar"
      ]
    },
    {
      "cell_type": "markdown",
      "metadata": {
        "id": "2lfmqdnnXWRe"
      },
      "source": [
        "## Text Processing"
      ]
    },
    {
      "cell_type": "code",
      "execution_count": null,
      "metadata": {
        "id": "zfln3L8tBnBE"
      },
      "outputs": [],
      "source": [
        "soup = BeautifulSoup(text_2, \"html.parser\")"
      ]
    },
    {
      "cell_type": "code",
      "execution_count": null,
      "metadata": {
        "id": "K5rzbHSBB8E2"
      },
      "outputs": [],
      "source": [
        "#main_2 = soup.find(class_='meteredContent grid-center')"
      ]
    },
    {
      "cell_type": "code",
      "execution_count": null,
      "metadata": {
        "id": "wbS2GAs8VvPS"
      },
      "outputs": [],
      "source": [
        "article_content = soup.find_all(class_='meteredContent grid-center')\n",
        "\n",
        "article_text = []\n",
        "for content in article_content:\n",
        "    article_text.append(content.get_text())\n",
        "\n",
        "full_article_text = '\\n'.join(article_text)\n",
        "full_article_text = [full_article_text]"
      ]
    },
    {
      "cell_type": "markdown",
      "metadata": {
        "id": "HXay-YoEXgtu"
      },
      "source": [
        "Acá definimos una variable con la extracción del texto del HTLM, luego iteramos por parrafos y seleccionado con la *clase* especificamente la noticia y todo almacenandolo en la variable *full_article_text*. Para aplicarle la tokenización tuve que hacerla lista, por eso lo de la linea 8."
      ]
    },
    {
      "cell_type": "code",
      "execution_count": null,
      "metadata": {
        "colab": {
          "base_uri": "https://localhost:8080/"
        },
        "collapsed": true,
        "id": "X9auwX3vblZj",
        "outputId": "23563182-fbcb-452d-9d76-88834306ac26"
      },
      "outputs": [],
      "source": [
        "#print(full_article_text)"
      ]
    },
    {
      "cell_type": "markdown",
      "metadata": {
        "id": "wtjgWBzsbsgk"
      },
      "source": [
        "Imprimimos la segunda noticia luego de pre-procesamiento."
      ]
    },
    {
      "cell_type": "markdown",
      "metadata": {
        "id": "wCbTJSLqYIOc"
      },
      "source": [
        "## Tokenization"
      ]
    },
    {
      "cell_type": "code",
      "execution_count": null,
      "metadata": {
        "id": "Gzel_N_7NiGJ"
      },
      "outputs": [],
      "source": [
        "new_vocab_size_1 = 642\n",
        "new_vectorizer_2 = TextVectorization(max_tokens=new_vocab_size_1,\n",
        "                                        standardize='lower',\n",
        "                                        output_mode='int',\n",
        "                                        output_sequence_length=500, # Longitud de salida\n",
        "                                        pad_to_max_tokens=500,\n",
        "                                          )\n",
        "\n",
        "new_vectorizer_2.adapt(full_article_text)\n",
        "vectorized_text_true = new_vectorizer_2(full_article_text)"
      ]
    },
    {
      "cell_type": "markdown",
      "metadata": {
        "id": "7WDxJu9yYSdb"
      },
      "source": [
        "Tokenizamos el texto de la noticia, modifique unos hiperparametros como el maximo de tokens colocandole exacto al texto, del resto los mismos al que use en el modelo."
      ]
    },
    {
      "cell_type": "code",
      "execution_count": null,
      "metadata": {
        "colab": {
          "base_uri": "https://localhost:8080/"
        },
        "id": "Zwg6OzZTb-gQ",
        "outputId": "e7161712-d2d8-4b0a-9223-9eba391fcf33"
      },
      "outputs": [
        {
          "data": {
            "text/plain": [
              "<tf.Tensor: shape=(1, 500), dtype=int64, numpy=\n",
              "array([[454,  10,  43, 279,   3, 575, 640, 381, 155,   4,  80,  45,   6,\n",
              "         18,  32, 190,   4, 167,   7, 349,   9, 310, 621,   5, 184,   6,\n",
              "        253,   3, 282,  12,   2, 117, 363, 112, 517, 193,  78,  10, 441,\n",
              "         12, 514,   5, 303,  14,  30,  35,  20,  13,   2,  86,  17,  74,\n",
              "          7, 263, 148,  72,   9,  35, 107, 366,  13,  92,  51,   5, 142,\n",
              "         27,  32, 512, 230,  49, 578, 368, 465,  11, 574,   7, 343,   2,\n",
              "        376,   8,  86,  18, 105,  11, 255,   6,  43, 619, 133, 225,  25,\n",
              "         18,  14, 192,  23, 558,   8,  24,  44, 213,   9, 628, 451,   2,\n",
              "          1,  25,  17,  22,  15,  16, 485,   4,   2, 211, 266, 614,   6,\n",
              "        418,  10, 426,  53,   3, 374,  11,  15, 579,   4,   9,  77,  27,\n",
              "          2, 291,   8,   2, 276, 361, 280,  43,  67, 469,  56, 239, 546,\n",
              "        125,  87,  65,  13,  11,  17,  74,  46,  21, 199,   5, 307,  56,\n",
              "         21, 583,  58, 244,  40, 407,   1,  82, 340,  13,   2,  31,  11,\n",
              "          4, 387,   5,  34,   1,  93,  21,  15, 115,   5, 573,  81,   8,\n",
              "        116,  31,   6, 554, 133,  54, 457,  10, 297,   9, 142,   5, 391,\n",
              "          9,   1,   1,   4,   1,   7, 602,  24,  35,  20,   8,   2,  60,\n",
              "        473,   6,  79,   2,  29,  88,   5,  65,  30,  24,  22, 524,   3,\n",
              "        145, 118, 126, 153,  19,   2, 591,  11, 383,  18,   4, 400,   1,\n",
              "        609,   1,   6,   2, 610,  19, 251,   9,  23,  25,  17,  22, 106,\n",
              "          1, 156,   2,  31, 529, 284, 503, 497, 624,   1,  70, 367,   8,\n",
              "        104,  12,   2,   1,  17,  22,   4, 348,   2, 377,  55, 234,   7,\n",
              "        119, 489,   3, 294, 121,   1,  10, 186, 208, 309,  37, 219,   6,\n",
              "         99, 528, 209,   2, 224, 144, 267,   4,  70,   1,  15, 537,   2,\n",
              "         29, 146, 104,   4,   2,   1, 476,   8,   2,  25,  17,  74,  23,\n",
              "        287,  87, 162,   2,   1, 393,   4,  27,   2,   1,  35, 103,   7,\n",
              "         99,   2, 438, 173, 453, 207,  33, 498, 459, 270,  13, 132, 582,\n",
              "         34, 629,  11,  39,  26, 490,  10, 337, 171,  21, 357, 455, 161,\n",
              "          2, 317,  12,   2, 403,   1, 414, 358, 135,  14,   3,  20,  41,\n",
              "          3, 605,   4, 355,   2, 466,  13,   9, 565,   6,   1,  13,   2,\n",
              "        101, 592,  46,   4, 617,   9, 112,   5,   3,  25,  17,  22,   1,\n",
              "          7, 295, 482,  19, 156, 515,  85,   4, 541, 608,   1,   2, 479,\n",
              "        272,   4, 147,  11,   7, 562,  40, 424, 138,   3,  57, 412, 389,\n",
              "          6,  17,  22,  20,  47, 114, 302,  14,   2, 566,   8, 305, 122,\n",
              "        395,  13,   2, 215, 354,  20, 386, 172, 561, 299,  12,   1,   7,\n",
              "        300, 501,  12, 135,   6,   7, 563, 147,  11,   7, 365,  59,   5,\n",
              "          1,  38, 500,  48, 131,   4,   2, 311, 531,  41,  48, 131,  27,\n",
              "          2,  18, 530,  18, 110,   4,   9, 179,  10,  26,   3, 323,   1,\n",
              "        289,  37,   9, 437, 618,  44,   4, 100, 408,  61,   7,  29, 201,\n",
              "          5,  16,  30,  35,  20,   1]])>"
            ]
          },
          "execution_count": 47,
          "metadata": {},
          "output_type": "execute_result"
        }
      ],
      "source": [
        "vectorized_text_true"
      ]
    },
    {
      "cell_type": "markdown",
      "metadata": {
        "id": "Jo6vTPMKYfEk"
      },
      "source": [
        "Una impresión de como se ve la noticia luego de tokenizar, un tensor con valores enteros"
      ]
    },
    {
      "cell_type": "markdown",
      "metadata": {
        "id": "C6Lds97lYfNs"
      },
      "source": [
        "## Predict a news"
      ]
    },
    {
      "cell_type": "code",
      "execution_count": null,
      "metadata": {
        "colab": {
          "base_uri": "https://localhost:8080/"
        },
        "id": "LksQDzGYa79W",
        "outputId": "ca5ec092-bde7-4f5e-b066-d491e2cbff8e"
      },
      "outputs": [
        {
          "name": "stdout",
          "output_type": "stream",
          "text": [
            "1/1 [==============================] - 0s 39ms/step\n"
          ]
        }
      ],
      "source": [
        "prediction = model.predict(vectorized_text_true)"
      ]
    },
    {
      "cell_type": "code",
      "execution_count": null,
      "metadata": {
        "colab": {
          "base_uri": "https://localhost:8080/"
        },
        "id": "vHep4zSHi-GW",
        "outputId": "6cf79a14-6131-421f-a0d6-0388f23ae399"
      },
      "outputs": [
        {
          "data": {
            "text/plain": [
              "array([[0.97472566]], dtype=float32)"
            ]
          },
          "execution_count": 49,
          "metadata": {},
          "output_type": "execute_result"
        }
      ],
      "source": [
        "prediction"
      ]
    },
    {
      "cell_type": "markdown",
      "metadata": {
        "id": "VLsKiFNqY4D9"
      },
      "source": [
        "Ya con el texto tokenizado, vectorizado y en una lista, procedemos a aplicar un *predict* con nuestro modelo, y una impresión de como se ve el valor del array"
      ]
    },
    {
      "cell_type": "code",
      "execution_count": null,
      "metadata": {
        "colab": {
          "base_uri": "https://localhost:8080/"
        },
        "id": "Tp-f84GmMeVV",
        "outputId": "14c61df4-3d6f-4b29-a7a2-9abd31560287"
      },
      "outputs": [
        {
          "name": "stdout",
          "output_type": "stream",
          "text": [
            "La noticia es verdadera.\n"
          ]
        }
      ],
      "source": [
        "if prediction >= 0.5:\n",
        "    print(\"La noticia es verdadera.\")\n",
        "else:\n",
        "    print(\"La noticia es falsa.\")"
      ]
    },
    {
      "cell_type": "markdown",
      "metadata": {
        "id": "e7KmcRfaY8gb"
      },
      "source": [
        "Al igual que la primera predicción usaremos un *if* para saber si la noticia es verdadera o falsa. En este caso es mas cercano a *1*, lo que nos informa que la noticia es verdadera."
      ]
    },
    {
      "cell_type": "markdown",
      "metadata": {},
      "source": [
        "# Conclusion"
      ]
    },
    {
      "cell_type": "markdown",
      "metadata": {},
      "source": [
        "Se nos entrego un *dataset* con noticias, las cuales se dividian en falsas o verdaderas; Procedimos a analizar la calidad de los datos, los cuales posteriormente procesamos y limpiamos para su función final; Ya con las muetras limpias, entrenamos nuestra red neuronal artificial capaz de predecir una noticia falsa o verdadera, del mundo real; Se llevo acabo numerosas tecnicas para lograr un buen desempeño en el modelo el cual fue bastante preciso en su predicción."
      ]
    },
    {
      "cell_type": "markdown",
      "metadata": {},
      "source": []
    }
  ],
  "metadata": {
    "accelerator": "GPU",
    "colab": {
      "collapsed_sections": [
        "aY5qsPrzCvzr",
        "Dzo1LsBfpgNg",
        "sYj_eQ0dpvqm",
        "KAiGNKknGBgm",
        "pl75Ecw8Pjt9",
        "dCgQv0qthsn_",
        "G-4UAue0PWys",
        "T63TOWdkiuwo",
        "o_yIMK5KpQ3B",
        "boXTRzs9parz",
        "tjOhSlp5pdmO",
        "wD0aLH5Lppw5",
        "jwczGP2-Equg",
        "OFwzyiIYE4ot",
        "9QivR163ITWG",
        "7G8lt_MCJ3Wk",
        "FAT3rNU1Wztw",
        "2lfmqdnnXWRe",
        "wCbTJSLqYIOc",
        "C6Lds97lYfNs"
      ],
      "gpuType": "T4",
      "include_colab_link": true,
      "provenance": []
    },
    "kernelspec": {
      "display_name": "Python 3",
      "name": "python3"
    },
    "language_info": {
      "name": "python"
    }
  },
  "nbformat": 4,
  "nbformat_minor": 0
}
